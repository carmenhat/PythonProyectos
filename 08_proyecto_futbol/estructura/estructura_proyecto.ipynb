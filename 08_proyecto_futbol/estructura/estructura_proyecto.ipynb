{
 "cells": [
  {
   "cell_type": "markdown",
   "id": "ab812168",
   "metadata": {},
   "source": [
    "Idea general de estructura: colocar todo aquí "
   ]
  },
  {
   "cell_type": "markdown",
   "id": "fb9fc50c",
   "metadata": {},
   "source": [
    "├── data/\n",
    "│   │   ├── jugadores.csv\n",
    "│   │   ├── partidos.csv\n",
    "│   │   ├── goles_por_partido.csv\n",
    "│   │   └── estadisticas_generales.csv\n",
    "│   ├── scripts/\n",
    "│   │   ├── cargar_datos.py\n",
    "│   │   ├── limpieza_datos.py\n",
    "│   │   ├── analisis.py\n",
    "│   │   └── modelo_prediccion.py\n",
    "│   ├── visualizaciones/\n",
    "│   │   ├── goles_por_partido.png\n",
    "│   │   ├── comparativa_jugadores.png\n",
    "│   │   └── rendimiento_equipo.png\n",
    "│   ├── flourish/\n",
    "│   │   ├── ranking_teams.csv\n",
    "│   │   └── jugadores_comparativa.csv\n",
    "│   ├── notebooks/\n",
    "│   │   ├── analisis_exploratorio.ipynb\n",
    "│   │   └── analisis_avanzado.ipynb\n",
    "├── tests/\n",
    "│   ├── test_estadisticas_futbol.py\n",
    "└── README.md"
   ]
  }
 ],
 "metadata": {
  "language_info": {
   "name": "python"
  }
 },
 "nbformat": 4,
 "nbformat_minor": 5
}
