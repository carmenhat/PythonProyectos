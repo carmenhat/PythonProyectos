{
 "cells": [
  {
   "cell_type": "markdown",
   "id": "3281bc89",
   "metadata": {},
   "source": [
    "Resumen del flujo completo para mantener tu proyecto actualizado:\n",
    "Cuando realizas cambios en tu segundo ordenador:\n",
    "\n",
    "git add .\n",
    "\n",
    "git commit -m \"Descripción de los cambios\"\n",
    "\n",
    "git push origin main\n",
    "\n",
    "Cuando necesitas traer los cambios más recientes del repositorio remoto:\n",
    "\n",
    "git pull origin main (esto sincroniza tu copia local con los últimos cambios del repositorio)."
   ]
  }
 ],
 "metadata": {
  "language_info": {
   "name": "python"
  }
 },
 "nbformat": 4,
 "nbformat_minor": 5
}
