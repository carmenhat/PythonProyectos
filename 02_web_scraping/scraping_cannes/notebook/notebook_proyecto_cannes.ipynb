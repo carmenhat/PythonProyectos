{
 "cells": [
  {
   "cell_type": "markdown",
   "metadata": {},
   "source": [
    "# Proyecto de Scraping - Festival de Cannes 🎥\n",
    "Este cuaderno reúne todas las partes clave del proyecto de scraping para el Festival de Cannes."
   ]
  },
  {
   "cell_type": "markdown",
   "metadata": {},
   "source": [
    "## Introducción\n",
    "En este proyecto, recopilamos datos de las secciones oficiales y no oficiales del Festival de Cannes y generamos visualizaciones para analizar la representación de países como España, Francia y Estados Unidos."
   ]
  },
  {
   "cell_type": "markdown",
   "metadata": {},
   "source": [
    "## Configuración inicial\n",
    "Importamos las bibliotecas necesarias y preparamos el entorno para la ejecución de los scripts y análisis."
   ]
  },
  {
   "cell_type": "code",
   "execution_count": null,
   "metadata": {},
   "outputs": [],
   "source": [
    "# Importar librerías necesarias\n",
    "import pandas as pd\n",
    "import matplotlib.pyplot as plt\n",
    "import seaborn as sns\n",
    "from IPython.display import display, HTML\n",
    "\n",
    "# Configuración extra para gráficos\n",
    "sns.set(style=\"whitegrid\")\n",
    "plt.rcParams['figure.figsize'] = (10, 6)"
   ]
  },
  {
   "cell_type": "markdown",
   "metadata": {},
   "source": [
    "## Cargar y explorar datos\n",
    "Aquí cargamos los datos generados por los scripts previos y hacemos una exploración inicial."
   ]
  },
  {
   "cell_type": "code",
   "execution_count": null,
   "metadata": {},
   "outputs": [],
   "source": [
    "# Cargar un archivo Excel generado por los scripts\n",
    "df = pd.read_excel('../datos_generados/cannes_no_oficiales_con_paises.xlsx')\n",
    "\n",
    "# Mostrar las primeras filas del dataset\n",
    "display(df.head())\n",
    "\n",
    "# Información general del dataset\n",
    "df.info()"
   ]
  },
  {
   "cell_type": "markdown",
   "metadata": {},
   "source": [
    "## Ejecución de Scripts\n",
    "Ejecutamos los scripts directamente desde este cuaderno para generar datos o actualizarlos."
   ]
  },
  {
   "cell_type": "code",
   "execution_count": null,
   "metadata": {},
   "outputs": [],
   "source": [
    "# Ejecutar el script de productoras\n",
    "!python ../scripts_finalizados/productoras.py"
   ]
  },
  {
   "cell_type": "markdown",
   "metadata": {},
   "source": [
    "## Análisis y visualizaciones\n",
    "Generamos gráficos y análisis con los datos recopilados."
   ]
  },
  {
   "cell_type": "code",
   "execution_count": null,
   "metadata": {},
   "outputs": [],
   "source": [
    "# Ejemplo: Gráfico de barras de representación por país\n",
    "df_country = df['País'].value_counts().head(10)\n",
    "\n",
    "df_country.plot(kind='bar', color='skyblue')\n",
    "plt.title('Top 10 Países Representados en Cannes')\n",
    "plt.xlabel('País')\n",
    "plt.ylabel('Número de películas')\n",
    "plt.show()"
   ]
  },
  {
   "cell_type": "markdown",
   "metadata": {},
   "source": [
    "## Cargar visualizaciones generadas\n",
    "Podemos cargar y mostrar visualizaciones externas generadas por los scripts."
   ]
  },
  {
   "cell_type": "code",
   "execution_count": null,
   "metadata": {},
   "outputs": [],
   "source": [
    "# Mostrar una visualización generada previamente en HTML\n",
    "from IPython.display import HTML\n",
    "HTML(filename='../visualizaciones/graficos_barras.html')"
   ]
  },
  {
   "cell_type": "markdown",
   "metadata": {},
   "source": [
    "## Conclusiones\n",
    "Resumen de los hallazgos principales del análisis y próximos pasos."
   ]
  }
 ],
 "metadata": {
  "kernelspec": {
   "display_name": "Python 3",
   "language": "python",
   "name": "python3"
  },
  "language_info": {
   "name": "python",
   "version": "3.8.10"
  }
 },
 "nbformat": 4,
 "nbformat_minor": 4
}