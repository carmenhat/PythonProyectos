{
 "cells": [
  {
   "cell_type": "markdown",
   "id": "f2a39c35",
   "metadata": {},
   "source": [
    "Clonar el repositorio en tu segundo ordenador\n",
    "Paso 1: Asegúrate de tener Git instalado en el segundo ordenador\n",
    "Si aún no tienes Git en tu segundo ordenador, puedes descargar e instalar Git. Durante la instalación, asegúrate de seleccionar las opciones predeterminadas si no estás seguro.\n",
    "\n",
    "Paso 2: Abre la terminal en el segundo ordenador\n",
    "En Windows, puedes usar Git Bash o CMD\n",
    "\n",
    "Paso 3: Navega al directorio donde deseas almacenar el proyecto\n",
    "Usa el comando cd (change directory) para cambiar al directorio donde quieras clonar el repositorio. Por ejemplo:"
   ]
  },
  {
   "cell_type": "markdown",
   "id": "1dfd4f90",
   "metadata": {},
   "source": [
    "cd C:\\ruta\\a\\la\\carpeta\\proyectos  # En Windows\n",
    "\n"
   ]
  },
  {
   "cell_type": "markdown",
   "id": "c1f94717",
   "metadata": {},
   "source": [
    "Clona el repositorio desde GitHub: \n",
    "git clone https://github.com/carmenhat/PythonProyectos.git\n",
    "\n",
    "Este comando descargará todos los archivos del repositorio y creará una carpeta llamada PythonProyectos en el directorio donde ejecutaste el comando."
   ]
  },
  {
   "cell_type": "markdown",
   "id": "0d324282",
   "metadata": {},
   "source": [
    "Abrir el proyecto en tu segundo ordenador\n",
    "Paso 1: Abre Visual Studio Code\n",
    "Si aún no tienes Visual Studio Code (VS Code), puedes descargarlo e instalarlo desde su página oficial."
   ]
  },
  {
   "cell_type": "markdown",
   "id": "70f88270",
   "metadata": {},
   "source": [
    "Paso 2: Abre la carpeta del proyecto\n",
    "Una vez que hayas clonado el repositorio y tengas VS Code instalado, puedes abrir el proyecto:\n",
    "\n",
    "Abre VS Code.\n",
    "\n",
    "En el menú superior, selecciona Archivo > Abrir carpeta.\n",
    "\n",
    "Navega hasta la carpeta del proyecto que acabas de clonar y selecciónala.\n",
    "\n",
    "Al abrir la carpeta, VS Code mostrará todos los archivos de tu proyecto en el panel lateral, y podrás comenzar a trabajar en él de inmediato."
   ]
  },
  {
   "cell_type": "markdown",
   "id": "59e2cee2",
   "metadata": {},
   "source": [
    "Resumen:\n",
    "Clonaste el repositorio desde GitHub a tu segundo ordenador.\n",
    "\n",
    "Abres el proyecto en Visual Studio Code para empezar a trabajar en él.\n",
    "\n",
    "Si haces cambios, no olvides seguir el flujo de trabajo con Git: git add ., git commit -m \"Descripción de cambios\", y git push origin main.\n",
    "\n",
    "Este proceso te asegura que siempre tendrás la última versión de tu proyecto y que cualquier cambio que hagas se sincronizará con el repositorio remoto."
   ]
  },
  {
   "cell_type": "markdown",
   "id": "2fa8ddda",
   "metadata": {},
   "source": [
    "debes clonar el repositorio en el directorio raíz donde quieras que se almacenen los archivos de tu proyecto. No es necesario que lo hagas desde un archivo específico dentro del proyecto, sino en la ubicación del sistema de archivos donde prefieras tener el proyecto.\n",
    "\n",
    "Aquí te lo detallo:\n",
    "\n",
    "¿Desde qué carpeta debo ejecutar el git clone?\n",
    "Debes ejecutar git clone en el directorio donde quieras que se almacenen los archivos del proyecto en tu segundo ordenador.\n",
    "\n",
    "Por ejemplo:\n",
    "\n",
    "Si quieres clonar el repositorio en una carpeta específica de proyectos: Si ya tienes una carpeta llamada proyectos (o cualquier nombre que elijas), navegas a esa carpeta con el comando cd y luego ejecutas git clone. Aquí hay un ejemplo para Windows:"
   ]
  },
  {
   "cell_type": "code",
   "execution_count": null,
   "id": "4aef6fcd",
   "metadata": {},
   "outputs": [],
   "source": [
    "cd C:\\ruta\\a\\la\\carpeta\\proyectos\n",
    "git clone https://github.com/carmenhat/PythonProyectos.git\n"
   ]
  },
  {
   "cell_type": "markdown",
   "id": "497e7d91",
   "metadata": {},
   "source": [
    "Si quieres clonar el repositorio directamente en tu directorio de usuario (por ejemplo, en C:\\Usuarios\\TuUsuario\\ en Windows : Simplemente navegas a tu directorio de usuario y luego haces el git clone:\n",
    "cd C:\\Usuarios\\TuUsuario\\  # Windows\n",
    "git clone https://github.com/carmenhat/PythonProyectos.git\n"
   ]
  },
  {
   "cell_type": "markdown",
   "id": "8f752129",
   "metadata": {},
   "source": [
    "Qué pasa después de clonar el repositorio?\n",
    "Una vez que hayas ejecutado el git clone, Git descargará todos los archivos del repositorio y los almacenará en una carpeta llamada PythonProyectos (o el nombre de tu repositorio) dentro de la carpeta donde ejecutaste el comando.\n",
    "\n",
    "Entonces, si clonaste el repositorio en C:\\ruta\\a\\la\\carpeta\\proyectos, verás una nueva carpeta PythonProyectos en ese directorio, que contiene todos los archivos de tu repositorio.\n",
    "\n",
    "A partir de allí, puedes proceder a abrir la carpeta en Visual Studio Code, como mencionamos antes, y empezar a trabajar en tu proyecto."
   ]
  },
  {
   "cell_type": "markdown",
   "id": "33bc2e95",
   "metadata": {},
   "source": [
    "1. Si has realizado cambios en tu segundo ordenador (modificaciones propias)\n",
    "Cuando realizas cambios en los archivos del proyecto, necesitas agregar esos cambios al área de preparación, hacer un commit y luego subirlos al repositorio remoto (en GitHub).\n",
    "\n",
    "El flujo sería este:\n",
    "\n",
    "Paso 1: Agregar los cambios al área de preparación"
   ]
  },
  {
   "cell_type": "code",
   "execution_count": null,
   "id": "205d9135",
   "metadata": {},
   "outputs": [],
   "source": [
    "git add .\n",
    "git commit -m \"cambios realizados\"\n"
   ]
  },
  {
   "cell_type": "markdown",
   "id": "3e91de10",
   "metadata": {},
   "source": [
    "\n",
    "El comando git commit -m \"Descripción de los cambios\" guarda los cambios en tu repositorio local. La descripción debe ser clara y explicar qué cambios realizaste."
   ]
  },
  {
   "cell_type": "markdown",
   "id": "35f727d9",
   "metadata": {},
   "source": [
    "Paso 3: Subir los cambios al repositorio remoto:\n",
    "git push origin main"
   ]
  },
  {
   "cell_type": "markdown",
   "id": "20f88283",
   "metadata": {},
   "source": [
    "Usamos git push origin main para enviar los cambios a GitHub. Asegúrate de que estés empujando a la rama correcta (en este caso main)."
   ]
  },
  {
   "cell_type": "markdown",
   "id": "bd6b6112",
   "metadata": {},
   "source": [
    "2. Si necesitas actualizar tu segundo ordenador con los cambios más recientes desde el repositorio remoto (por ejemplo, si trabajaste en el primer ordenador y subiste cambios)"
   ]
  },
  {
   "cell_type": "markdown",
   "id": "842be173",
   "metadata": {},
   "source": [
    "En este caso, primero necesitas actualizar tu copia local con los últimos cambios desde GitHub.\n",
    "\n",
    "Paso 1: Actualizar el repositorio local con los cambios remotos\n",
    "git pull origin main\n",
    "El comando git pull origin main descarga los últimos cambios de la rama main del repositorio remoto y los fusiona con tu copia local.\n",
    "Paso 2: Resolver posibles conflictos (si es necesario)\n",
    "Si tu segundo ordenador tiene cambios que confligen con los de GitHub (por ejemplo, si editaste el mismo archivo que alguien más), Git te pedirá que resuelvas el conflicto. Tendrás que abrir el archivo afectado y decidir qué cambios mantener.\n",
    "Paso 3: Si realizaste cambios adicionales, repite el proceso de git add, git commit y git push para sincronizar esos cambios de vuelta al repositorio remoto.\n"
   ]
  },
  {
   "cell_type": "markdown",
   "id": "3f00f8b7",
   "metadata": {},
   "source": [
    "##### recordar siempre estar en la carpetacorrecta o navegar hasta ella\n",
    "cd /ruta/a/tu/carpeta/PythonProyectos\n",
    "\n",
    "C:\\Users\\ceste\\PythonProyectos\n"
   ]
  }
 ],
 "metadata": {
  "language_info": {
   "name": "python"
  }
 },
 "nbformat": 4,
 "nbformat_minor": 5
}
